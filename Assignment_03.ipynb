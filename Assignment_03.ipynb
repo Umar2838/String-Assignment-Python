{
 "cells": [
  {
   "cell_type": "markdown",
   "id": "e5aa2e72-19b5-4772-8e45-15e543d5b1a3",
   "metadata": {},
   "source": [
    "Question no 01"
   ]
  },
  {
   "cell_type": "code",
   "execution_count": 17,
   "id": "7b3b2c19-f60a-4e99-b9a3-29eedaf4de11",
   "metadata": {},
   "outputs": [
    {
     "name": "stdin",
     "output_type": "stream",
     "text": [
      "Enter a string umar\n"
     ]
    },
    {
     "name": "stdout",
     "output_type": "stream",
     "text": [
      "Number of vowels in strings are:  2\n"
     ]
    }
   ],
   "source": [
    "count = 0;\n",
    "vowel = \"aeiouAEIOU\"\n",
    "str = input(\"Enter a string: \")\n",
    "for char in str:\n",
    "    if char in vowel:\n",
    "        count += 1\n",
    "print(\"Number of vowels in strings are: \",count)"
   ]
  },
  {
   "cell_type": "markdown",
   "id": "682171b5-7f42-4f8e-a082-b770bbfd6e6d",
   "metadata": {},
   "source": [
    "Question no 02"
   ]
  },
  {
   "cell_type": "markdown",
   "id": "666eefad-72e4-4d5e-8baf-281f1d20c4fe",
   "metadata": {},
   "source": [
    "uppCount = 0\n",
    "lowCount = 0\n",
    "digCount = 0\n",
    "spcCount = 0\n",
    "str = input(\"Enter a string: \")\n",
    "for char in str:\n",
    "    if char.isupper():\n",
    "        uppCount += 1\n",
    "    if char.islower():\n",
    "        lowCount += 1\n",
    "    if char.isdigit():\n",
    "        digCount += 1\n",
    "    if char.isspace():\n",
    "        spcCount += 1\n",
    "print(\"Number of uppercaseletter in th string: \",uppCount)\n",
    "print(\"Number of lowercaseletter in th string: \",lowCount)\n",
    "print(\"Number of digit in th string: \",digCount)\n",
    "print(\"Number of whitespace in th string: \",spcCount)\n",
    "\n",
    "\n",
    "\n",
    "\n"
   ]
  },
  {
   "cell_type": "markdown",
   "id": "e5a831cd-43bb-4b09-99de-ac3393db5753",
   "metadata": {},
   "source": [
    "Question no 03"
   ]
  },
  {
   "cell_type": "code",
   "execution_count": 21,
   "id": "73f6f5af-2f8a-49f5-8a87-f072fdb04c8a",
   "metadata": {},
   "outputs": [
    {
     "name": "stdin",
     "output_type": "stream",
     "text": [
      "Enter a string Hello\n"
     ]
    },
    {
     "name": "stdout",
     "output_type": "stream",
     "text": [
      "Original string:  Hello \n",
      " Converted string:  oellH\n"
     ]
    }
   ],
   "source": [
    "str = input(\"Enter a string\")\n",
    "newString = str[-1]+str[1:-1]+str[0]\n",
    "print(\"Original string: \",str,\"\\n\",\"Converted string: \",newString)"
   ]
  },
  {
   "cell_type": "markdown",
   "id": "1e3073f1-0925-4cdc-8be6-c1df9f616ba1",
   "metadata": {},
   "source": [
    "Question no 04"
   ]
  },
  {
   "cell_type": "code",
   "execution_count": 23,
   "id": "a5e3147f-c1b1-4197-a8ba-0cace9b60a69",
   "metadata": {},
   "outputs": [
    {
     "name": "stdin",
     "output_type": "stream",
     "text": [
      "Enter a string Exam\n"
     ]
    },
    {
     "name": "stdout",
     "output_type": "stream",
     "text": [
      "maxE\n"
     ]
    }
   ],
   "source": [
    "str = input(\"Enter a string\")\n",
    "reverseString = str[::-1]\n",
    "print(reverseString)"
   ]
  },
  {
   "cell_type": "markdown",
   "id": "c26f30fc-69c1-42b7-9e19-89c385a8923b",
   "metadata": {},
   "source": [
    "Question no 05"
   ]
  },
  {
   "cell_type": "code",
   "execution_count": 26,
   "id": "a6ef00bc-3908-49f6-9ae5-17923bf2c6cf",
   "metadata": {},
   "outputs": [
    {
     "name": "stdin",
     "output_type": "stream",
     "text": [
      "Enter a string examination 2021\n"
     ]
    },
    {
     "name": "stdout",
     "output_type": "stream",
     "text": [
      "xamination 2021e\n"
     ]
    }
   ],
   "source": [
    "str = input(\"Enter a string\")\n",
    "newString = str[1:]+str[0]\n",
    "print(newString)"
   ]
  },
  {
   "cell_type": "markdown",
   "id": "a5b227f1-b2b7-4550-b239-0bef6b34085e",
   "metadata": {},
   "source": [
    "Question no 06"
   ]
  },
  {
   "cell_type": "code",
   "execution_count": 36,
   "id": "162675b6-04a5-4f54-abca-d080b39fe871",
   "metadata": {},
   "outputs": [
    {
     "name": "stdin",
     "output_type": "stream",
     "text": [
      "Enter first name, middle name, last name without unnecessary spaces:  Ajay Kumar Garg\n"
     ]
    },
    {
     "name": "stdout",
     "output_type": "stream",
     "text": [
      "Initials: A. K. G.\n"
     ]
    }
   ],
   "source": [
    "initials = \"\"\n",
    "name = input(\"Enter first name, middle name, last name without unnecessary spaces: \")\n",
    "initials += name[0].upper() + '.'\n",
    "for i in range(1, len(name)):\n",
    "    if name[i] == ' ':\n",
    "        initials += ' ' + name[i + 1].upper() + '.'\n",
    "print(\"Initials:\", initials)\n",
    "\n",
    "    "
   ]
  },
  {
   "cell_type": "markdown",
   "id": "8d415265-8262-478b-97aa-326ac60d5580",
   "metadata": {},
   "source": [
    "Question no 07"
   ]
  },
  {
   "cell_type": "code",
   "execution_count": 38,
   "id": "80035cef-da80-4868-9513-499ed38d0fec",
   "metadata": {},
   "outputs": [
    {
     "name": "stdin",
     "output_type": "stream",
     "text": [
      "Enter a string:  unar\n"
     ]
    },
    {
     "name": "stdout",
     "output_type": "stream",
     "text": [
      "The string is not palindrome!\n"
     ]
    }
   ],
   "source": [
    "str = input(\"Enter a string: \")\n",
    "reverseString = str[::-1]\n",
    "if str == reverseString:\n",
    "    print(\"The string is palindrome!\")\n",
    "else:\n",
    "    print(\"The string is not palindrome!\")\n"
   ]
  },
  {
   "cell_type": "markdown",
   "id": "7c59bfa9-316d-4265-96df-b21cb0cc4724",
   "metadata": {},
   "source": [
    "Question no 08"
   ]
  },
  {
   "cell_type": "code",
   "execution_count": 39,
   "id": "d5cadc6f-32bc-4b87-a104-754fc1abcedb",
   "metadata": {},
   "outputs": [
    {
     "name": "stdout",
     "output_type": "stream",
     "text": [
      "SHIFT\n",
      "HIFTS\n",
      "IFTSH\n",
      "FTSHI\n",
      "TSHIF\n"
     ]
    }
   ],
   "source": [
    "word = \"SHIFT\"\n",
    "length = len(word)\n",
    "for i in range(length):\n",
    "    shifted_word = word[i:] + word[:i]\n",
    "    print(shifted_word)\n"
   ]
  },
  {
   "cell_type": "markdown",
   "id": "6d6f0615-be41-4d9e-8b82-a0f22041200e",
   "metadata": {},
   "source": [
    "Question no 09"
   ]
  },
  {
   "cell_type": "code",
   "execution_count": 44,
   "id": "ef9b6146-8113-486b-906c-d51a5bedbbb3",
   "metadata": {},
   "outputs": [
    {
     "name": "stdin",
     "output_type": "stream",
     "text": [
      "Enter a password:  Umar Aqeel 2\n"
     ]
    },
    {
     "name": "stdout",
     "output_type": "stream",
     "text": [
      "Password is valid.\n"
     ]
    }
   ],
   "source": [
    "password = input(\"Enter a password: \")\n",
    "\n",
    "has_uppercase = False\n",
    "has_lowercase = False\n",
    "has_digit = False\n",
    "if len(password) < 8:\n",
    "    print(\"Password must be at least 8 characters long.\")\n",
    "else:\n",
    "    for char in password:\n",
    "        if char.isupper():\n",
    "            has_uppercase = True\n",
    "        if char.islower():\n",
    "            has_lowercase = True\n",
    "        if char.isdigit():\n",
    "            has_digit = True\n",
    "    if not has_uppercase:\n",
    "        print(\"Password must contain at least one uppercase letter.\")\n",
    "    elif not has_lowercase:\n",
    "        print(\"Password must contain at least one lowercase letter.\")\n",
    "    elif not has_digit:\n",
    "        print(\"Password must contain at least one numeric digit.\")\n",
    "    else:\n",
    "        print(\"Password is valid.\")\n"
   ]
  },
  {
   "cell_type": "code",
   "execution_count": null,
   "id": "4cdbb7d0-7fef-437d-91b4-1af9596d69a4",
   "metadata": {},
   "outputs": [],
   "source": []
  }
 ],
 "metadata": {
  "kernelspec": {
   "display_name": "Python 3 (ipykernel)",
   "language": "python",
   "name": "python3"
  },
  "language_info": {
   "codemirror_mode": {
    "name": "ipython",
    "version": 3
   },
   "file_extension": ".py",
   "mimetype": "text/x-python",
   "name": "python",
   "nbconvert_exporter": "python",
   "pygments_lexer": "ipython3",
   "version": "3.11.7"
  }
 },
 "nbformat": 4,
 "nbformat_minor": 5
}
